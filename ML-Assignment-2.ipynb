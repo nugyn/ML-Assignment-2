{
 "cells": [
  {
   "cell_type": "code",
   "execution_count": 3,
   "metadata": {},
   "outputs": [],
   "source": [
    "import pandas as pd\n",
    "import sklearn\n",
    "from sklearn import preprocessing\n",
    "import datetime\n",
    "from boruta import BorutaPy\n",
    "import math\n",
    "import warnings\n",
    "warnings.simplefilter(action='ignore', category=FutureWarning)\n",
    "from sklearn.model_selection import train_test_split"
   ]
  },
  {
   "cell_type": "code",
   "execution_count": 4,
   "metadata": {},
   "outputs": [],
   "source": [
    "# Functions for Feature Generation for Time Series Data\n",
    "le_day_of_week = preprocessing.LabelEncoder()\n",
    "le_week_status = preprocessing.LabelEncoder()\n",
    "\n",
    "def secondsDay(data_frame):\n",
    "    hour = data_frame.date.dt.hour\n",
    "    minute = data_frame.date.dt.minute\n",
    "    seconds = data_frame.date.dt.second\n",
    "    return hour * 3600 + minute * 60 + seconds\n",
    "    \n",
    "def weekStatus(data_frame, label_encoder):\n",
    "    week_status_DF = pd.DataFrame(columns=['week_status'])\n",
    "    train_date_DF = pd.DataFrame(columns=['date'])\n",
    "    train_date_DF = data_frame['date']    \n",
    "    for date in train_date_DF.items():\n",
    "        day = date[1].weekday_name\n",
    "        if day == 'Saturday' or day == 'Sunday':\n",
    "            week_status_DF =  week_status_DF.append({'week_status': 'Weekend'}, ignore_index=True)\n",
    "        else:\n",
    "            week_status_DF =  week_status_DF.append({'week_status': 'Weekday'}, ignore_index=True)\n",
    "    \n",
    "    weekstatus_labels = label_encoder.fit_transform(week_status_DF.values.ravel())\n",
    "    return weekstatus_labels\n",
    "\n",
    "def dayOfWeek(data_frame, label_encoder):\n",
    "    day_of_week_label = label_encoder.fit_transform(data_frame.date.dt.weekday_name.values.ravel())\n",
    "    return day_of_week_label"
   ]
  },
  {
   "cell_type": "code",
   "execution_count": 5,
   "metadata": {},
   "outputs": [],
   "source": [
    "# Pre-process data\n",
    "train_data = pd.read_csv('s3://ml-assignment2-data/UCI-electricity/UCI_data.csv', parse_dates=True)\n",
    "\n",
    "# Generate timeseries eatures for complete dataset\n",
    "train_data['date'] = train_data['date'].astype('datetime64[ns]')\n",
    "\n",
    "# Feature Generation for Timeseries Data\n",
    "# Generate Number of Seconds from Midnight (NSM), \n",
    "nsm_series = secondsDay(train_data)\n",
    "nsm_DF = nsm_series.to_frame()\n",
    "\n",
    "# Week Status of the data, weekend or weekday\n",
    "week_status_DF = pd.DataFrame(data=weekStatus(train_data, le_week_status), columns=['week_status'])\n",
    "\n",
    "# DayOfTheWeek, for each data row\n",
    "day_of_week_DF = pd.DataFrame(data=dayOfWeek(train_data, le_day_of_week), columns=['day_of_week'])\n",
    "\n",
    "train_data['nsm'] = nsm_DF['date']\n",
    "train_data['week_status'] = week_status_DF['week_status']\n",
    "train_data['day_of_week'] = day_of_week_DF['day_of_week']\n",
    "train_data =  train_data.drop(columns=['date'])"
   ]
  },
  {
   "cell_type": "code",
   "execution_count": 6,
   "metadata": {},
   "outputs": [
    {
     "name": "stdout",
     "output_type": "stream",
     "text": [
      "<class 'pandas.core.frame.DataFrame'>\n",
      "<class 'pandas.core.frame.DataFrame'>\n"
     ]
    }
   ],
   "source": [
    "# SKLEARN to create data partition function, 75% Training, 25% Testing. \n",
    "x_train_DF = train_data.drop(columns=['TARGET_energy'])\n",
    "y_train_DF = pd.DataFrame(train_data['TARGET_energy'], columns=['TARGET_energy'])\n",
    "print(type(y_train_DF))\n",
    "print(type(x_train_DF))\n",
    "x_train_values = x_train_DF.to_numpy().astype('float64')\n",
    "y_train_values = y_train_DF.to_numpy().astype('float64')\n",
    "\n",
    "X_train, X_test, y_train, y_test = train_test_split(x_train_values, y_train_values, test_size=.25, random_state=42)"
   ]
  },
  {
   "cell_type": "code",
   "execution_count": 7,
   "metadata": {},
   "outputs": [],
   "source": [
    "independent_scaler = preprocessing.StandardScaler()\n",
    "target_scaler = preprocessing.StandardScaler()\n",
    "\n",
    "x_train_scaled = independent_scaler.fit_transform(X_train)\n",
    "y_train_scaled = target_scaler.fit_transform(y_train.reshape(-1, 1))\n",
    "\n",
    "X_train_scaled_DF = pd.DataFrame(x_train_scaled, columns=x_train_DF.columns)\n",
    "Y_train_scaled_DF = pd.DataFrame(y_train_scaled, columns=y_train_DF.columns)"
   ]
  },
  {
   "cell_type": "code",
   "execution_count": 8,
   "metadata": {},
   "outputs": [],
   "source": [
    "# Model & Feature Selection\n",
    "from sklearn.model_selection import cross_validate\n",
    "from sklearn.model_selection import cross_val_score\n",
    "from sklearn.feature_selection import RFECV\n",
    "from sklearn.model_selection import KFold\n",
    "\n",
    "# Import Models Single (LR, SVM, ANN, DT)\n",
    "from sklearn.svm import SVR\n",
    "from sklearn import tree\n",
    "from sklearn.linear_model import LinearRegression\n",
    "from sklearn.neural_network import MLPRegressor\n",
    "from sklearn.ensemble import BaggingRegressor\n",
    "from sklearn.ensemble import VotingRegressor\n",
    "\n",
    "# Import Models Ensemble (Boosting {Gradient Boosting Machines}, Averaging Methods {Voting and Bagging})\n",
    "from sklearn.ensemble import GradientBoostingRegressor\n",
    "from sklearn.ensemble  import RandomForestRegressor"
   ]
  },
  {
   "cell_type": "code",
   "execution_count": 9,
   "metadata": {},
   "outputs": [
    {
     "data": {
      "text/plain": [
       "array([ True,  True,  True,  True,  True,  True,  True,  True,  True,\n",
       "        True,  True,  True,  True,  True,  True,  True,  True,  True,\n",
       "        True,  True,  True,  True,  True,  True,  True,  True,  True,\n",
       "       False,  True])"
      ]
     },
     "execution_count": 9,
     "metadata": {},
     "output_type": "execute_result"
    }
   ],
   "source": [
    "rf = RandomForestRegressor(n_estimators=20, criterion='mse')\n",
    "\n",
    "feat_selector = RFECV(estimator=rf, step=1, cv=KFold(2))\n",
    "feat_selector.fit(X_train_scaled_DF.to_numpy(), Y_train_scaled_DF.to_numpy().ravel())\n",
    "feat_selector.support_"
   ]
  },
  {
   "cell_type": "code",
   "execution_count": 10,
   "metadata": {},
   "outputs": [
    {
     "data": {
      "text/plain": [
       "array([1, 1, 1, 1, 1, 1, 1, 1, 1, 1, 1, 1, 1, 1, 1, 1, 1, 1, 1, 1, 1, 1,\n",
       "       1, 1, 1, 1, 1, 2, 1])"
      ]
     },
     "execution_count": 10,
     "metadata": {},
     "output_type": "execute_result"
    }
   ],
   "source": [
    "feat_selector.ranking_"
   ]
  },
  {
   "cell_type": "code",
   "execution_count": 11,
   "metadata": {},
   "outputs": [
    {
     "data": {
      "text/plain": [
       "['accuracy',\n",
       " 'adjusted_mutual_info_score',\n",
       " 'adjusted_rand_score',\n",
       " 'average_precision',\n",
       " 'balanced_accuracy',\n",
       " 'completeness_score',\n",
       " 'explained_variance',\n",
       " 'f1',\n",
       " 'f1_macro',\n",
       " 'f1_micro',\n",
       " 'f1_samples',\n",
       " 'f1_weighted',\n",
       " 'fowlkes_mallows_score',\n",
       " 'homogeneity_score',\n",
       " 'jaccard',\n",
       " 'jaccard_macro',\n",
       " 'jaccard_micro',\n",
       " 'jaccard_samples',\n",
       " 'jaccard_weighted',\n",
       " 'max_error',\n",
       " 'mutual_info_score',\n",
       " 'neg_brier_score',\n",
       " 'neg_log_loss',\n",
       " 'neg_mean_absolute_error',\n",
       " 'neg_mean_gamma_deviance',\n",
       " 'neg_mean_poisson_deviance',\n",
       " 'neg_mean_squared_error',\n",
       " 'neg_mean_squared_log_error',\n",
       " 'neg_median_absolute_error',\n",
       " 'neg_root_mean_squared_error',\n",
       " 'normalized_mutual_info_score',\n",
       " 'precision',\n",
       " 'precision_macro',\n",
       " 'precision_micro',\n",
       " 'precision_samples',\n",
       " 'precision_weighted',\n",
       " 'r2',\n",
       " 'recall',\n",
       " 'recall_macro',\n",
       " 'recall_micro',\n",
       " 'recall_samples',\n",
       " 'recall_weighted',\n",
       " 'roc_auc',\n",
       " 'roc_auc_ovo',\n",
       " 'roc_auc_ovo_weighted',\n",
       " 'roc_auc_ovr',\n",
       " 'roc_auc_ovr_weighted',\n",
       " 'v_measure_score']"
      ]
     },
     "execution_count": 11,
     "metadata": {},
     "output_type": "execute_result"
    }
   ],
   "source": [
    "sorted(sklearn.metrics.SCORERS.keys())"
   ]
  },
  {
   "cell_type": "code",
   "execution_count": 12,
   "metadata": {},
   "outputs": [],
   "source": [
    "ann = MLPRegressor(random_state=0, activation='logistic', solver='sgd', tol=15000, max_iter=500)\n",
    "lm = LinearRegression()\n",
    "svr = SVR()\n",
    "dt = tree.DecisionTreeRegressor()\n",
    "\n",
    "gmb = GradientBoostingRegressor(random_state=4)\n",
    "rfg = RandomForestRegressor(random_state=0)\n",
    "\n",
    "r2 = 'r2'\n",
    "mse = 'neg_mean_squared_error'\n",
    "mae = 'neg_mean_absolute_error'\n",
    "\n",
    "scoring = {}\n",
    "scoring['r2'] =  r2\n",
    "scoring['mse'] = mse\n",
    "scoring['mae'] = mae"
   ]
  },
  {
   "cell_type": "code",
   "execution_count": 13,
   "metadata": {},
   "outputs": [],
   "source": [
    "# Train Models for Single Methods\n",
    "single_models = []\n",
    "single_models.append(('LM', lm))\n",
    "single_models.append(('SVR', svr))\n",
    "single_models.append(('ANN', ann))\n",
    "single_models.append(('DT', dt))\n",
    "\n",
    "# Train Models for Ensemble Methods\n",
    "ensemble_models = []\n",
    "ensemble_models.append(('GMB', gmb))\n",
    "ensemble_models.append(('RFG', rfg))"
   ]
  },
  {
   "cell_type": "code",
   "execution_count": 14,
   "metadata": {},
   "outputs": [],
   "source": [
    "def cross_validate_score(models, scoring_type):\n",
    "    results = []\n",
    "    names = []\n",
    "    score = {}\n",
    "    if scoring_type == 'rmse':\n",
    "        for name, model in models:\n",
    "            kfold = KFold(n_splits=10, random_state=4)\n",
    "            cv_results= cross_val_score(model, X_train_scaled_DF.to_numpy(), Y_train_scaled_DF.to_numpy().ravel(), cv=kfold, scoring = scoring['mse'])\n",
    "            results.append(cv_results)\n",
    "            names.append(name)\n",
    "            rmse = math.sqrt(-cv_results.mean())\n",
    "            score[name] = cv_results\n",
    "            msg = \"%s: %s: %f (%f)\" % (scoring_type, name, rmse, cv_results.std())\n",
    "            print(msg)\n",
    "    else:\n",
    "        for name, model in models:\n",
    "            kfold = KFold(n_splits=10, random_state=4)\n",
    "            cv_results= cross_val_score(model, X_train_scaled_DF.to_numpy(), Y_train_scaled_DF.to_numpy().ravel(), cv=kfold, scoring = scoring[scoring_type])\n",
    "            results.append(cv_results)\n",
    "            names.append(name)\n",
    "            score[name] = cv_results\n",
    "            msg = \"%s: %s: %f (%f)\" % (scoring_type, name, cv_results.mean(), cv_results.std())\n",
    "            print(msg)\n",
    "    return score"
   ]
  },
  {
   "cell_type": "code",
   "execution_count": 15,
   "metadata": {},
   "outputs": [
    {
     "name": "stdout",
     "output_type": "stream",
     "text": [
      "r2: LM: 0.158134 (0.014497)\n",
      "r2: SVR: 0.243712 (0.021276)\n",
      "r2: ANN: 0.068974 (0.007114)\n",
      "r2: DT: 0.242918 (0.100044)\n"
     ]
    }
   ],
   "source": [
    "results_r2 = cross_validate_score(single_models, 'r2')"
   ]
  },
  {
   "cell_type": "code",
   "execution_count": 16,
   "metadata": {},
   "outputs": [
    {
     "name": "stdout",
     "output_type": "stream",
     "text": [
      "mse: LM: -0.841885 (0.075510)\n",
      "mse: SVR: -0.757105 (0.077624)\n",
      "mse: ANN: -0.930982 (0.081770)\n",
      "mse: DT: -0.762151 (0.092397)\n"
     ]
    }
   ],
   "source": [
    "results_mse = cross_validate_score(single_models, 'mse')"
   ]
  },
  {
   "cell_type": "code",
   "execution_count": 17,
   "metadata": {},
   "outputs": [
    {
     "name": "stdout",
     "output_type": "stream",
     "text": [
      "rmse: LM: 0.917543 (0.075510)\n",
      "rmse: SVR: 0.870118 (0.077624)\n",
      "rmse: ANN: 0.964874 (0.081770)\n",
      "rmse: DT: 0.867714 (0.095663)\n"
     ]
    }
   ],
   "source": [
    "results_rmse = cross_validate_score(single_models, 'rmse')"
   ]
  },
  {
   "cell_type": "code",
   "execution_count": 18,
   "metadata": {},
   "outputs": [
    {
     "name": "stdout",
     "output_type": "stream",
     "text": [
      "mae: LM: -0.528563 (0.017219)\n",
      "mae: SVR: -0.370823 (0.018084)\n",
      "mae: ANN: -0.552813 (0.016507)\n",
      "mae: DT: -0.379553 (0.028935)\n"
     ]
    }
   ],
   "source": [
    "results_mae = cross_validate_score(single_models, 'mae')"
   ]
  },
  {
   "cell_type": "code",
   "execution_count": 19,
   "metadata": {},
   "outputs": [],
   "source": [
    "# Performance plotting\n",
    "import matplotlib.pyplot as plt\n",
    "\n",
    "def generate_comparison(results, scoring_type):\n",
    "    labels, data = [*zip(*results.items())]\n",
    "    fig = plt.figure()\n",
    "    fig.suptitle('Model Comparison on {}'.format(scoring_type))\n",
    "    ax = fig.add_subplot(111)\n",
    "    plt.boxplot(data)\n",
    "    ax.set_xticklabels(labels)\n",
    "    plt.show()"
   ]
  },
  {
   "cell_type": "code",
   "execution_count": 20,
   "metadata": {},
   "outputs": [
    {
     "data": {
      "image/png": "[encoded data removed]",
      "text/plain": [
       "<Figure size 432x288 with 1 Axes>"
      ]
     },
     "metadata": {},
     "output_type": "display_data"
    },
    {
     "data": {
      "image/png": "[encoded data removed]",
      "text/plain": [
       "<Figure size 432x288 with 1 Axes>"
      ]
     },
     "metadata": {},
     "output_type": "display_data"
    },
    {
     "data": {
      "image/png": "[encoded data removed]",
      "text/plain": [
       "<Figure size 432x288 with 1 Axes>"
      ]
     },
     "metadata": {},
     "output_type": "display_data"
    },
    {
     "data": {
      "image/png": "[encoded data removed]",
      "text/plain": [
       "<Figure size 432x288 with 1 Axes>"
      ]
     },
     "metadata": {},
     "output_type": "display_data"
    }
   ],
   "source": [
    "#INIT TODO: Change negative numbers into positive\n",
    "generate_comparison(results_r2, 'r2')\n",
    "generate_comparison(results_mae, 'mae')\n",
    "generate_comparison(results_mae, 'rmse')\n",
    "generate_comparison(results_mae, 'mse')"
   ]
  },
  {
   "cell_type": "code",
   "execution_count": 21,
   "metadata": {},
   "outputs": [
    {
     "name": "stdout",
     "output_type": "stream",
     "text": [
      "r2: VOTE: 0.359749 (0.023168)\n"
     ]
    },
    {
     "data": {
      "text/plain": [
       "{'VOTE': array([0.36557598, 0.34133864, 0.37326411, 0.3434549 , 0.39774477,\n",
       "        0.33942564, 0.39635146, 0.36342983, 0.32380012, 0.35310949])}"
      ]
     },
     "execution_count": 21,
     "metadata": {},
     "output_type": "execute_result"
    }
   ],
   "source": [
    "# Ensemble Methods\n",
    "\n",
    "# --- Averaging Methods ---\n",
    "# Voting (ANNs, CART, SVR, LR)\n",
    "temp = []\n",
    "vote = VotingRegressor(single_models)\n",
    "temp.append(('VOTE', vote))\n",
    "cross_validate_score(temp, 'r2')\n"
   ]
  },
  {
   "cell_type": "code",
   "execution_count": 22,
   "metadata": {},
   "outputs": [
    {
     "name": "stdout",
     "output_type": "stream",
     "text": [
      "r2: LM: 0.157921 (0.015024)\n",
      "r2: SVR: 0.246194 (0.020910)\n",
      "r2: DT: 0.538298 (0.040159)\n",
      "r2: ANN: 0.074972 (0.007065)\n",
      "mse: LM: -0.842121 (0.076234)\n",
      "mse: SVR: -0.751622 (0.077318)\n",
      "mse: DT: -0.474070 (0.051311)\n",
      "mse: ANN: -0.924614 (0.081668)\n",
      "rmse: LM: 0.917732 (0.076230)\n",
      "rmse: SVR: 0.866714 (0.078455)\n",
      "rmse: DT: 0.688332 (0.049727)\n",
      "rmse: ANN: 0.962053 (0.080419)\n",
      "mae: LM: -0.528311 (0.016984)\n",
      "mae: SVR: -0.372449 (0.017829)\n",
      "mae: DT: -0.333398 (0.016625)\n",
      "mae: ANN: -0.554195 (0.016319)\n",
      "r2: GMB: 0.307916 (0.016356)\n",
      "r2: RFG: 0.569899 (0.029771)\n",
      "mse: GMB: -0.691852 (0.059601)\n",
      "mse: RFG: -0.429830 (0.044561)\n",
      "rmse: GMB: 0.831776 (0.059601)\n",
      "rmse: RFG: 0.655615 (0.044561)\n",
      "mae: GMB: -0.453823 (0.014155)\n",
      "mae: RFG: -0.314317 (0.015034)\n"
     ]
    }
   ],
   "source": [
    "# --- Averaging ---\n",
    "# Bagging (ANN, LM, SVR, CART)\n",
    "# Voting\n",
    "# Random Forest Trees (Decision Trees)\n",
    "# --- Boosting ---\n",
    "# Gradient Boosting Machines\n",
    "\n",
    "bagging_models = []\n",
    "bagging_models.append(('LM', BaggingRegressor(lm)))\n",
    "bagging_models.append(('SVR', BaggingRegressor(svr)))\n",
    "bagging_models.append(('DT', BaggingRegressor(dt)))\n",
    "bagging_models.append(('ANN', BaggingRegressor(ann)))\n",
    "\n",
    "results_bagging_r2 = cross_validate_score(bagging_models, 'r2')\n",
    "results_bagging_mse = cross_validate_score(bagging_models, 'mse')\n",
    "results_bagging_rmse = cross_validate_score(bagging_models, 'rmse')\n",
    "results_bagging_mae = cross_validate_score(bagging_models, 'mae')\n",
    "\n",
    "# GMB & RFG (Boosting & Averaging)\n",
    "results_bagging_r2 = cross_validate_score(ensemble_models, 'r2')\n",
    "results_bagging_mse = cross_validate_score(ensemble_models, 'mse')\n",
    "results_bagging_rmse = cross_validate_score(ensemble_models, 'rmse')\n",
    "results_bagging_mae = cross_validate_score(ensemble_models, 'mae')"
   ]
  },
  {
   "cell_type": "code",
   "execution_count": 24,
   "metadata": {},
   "outputs": [
    {
     "name": "stdout",
     "output_type": "stream",
     "text": [
      "rmse: VOTE: 0.802345 (0.060297)\n",
      "mse: VOTE: -0.637336 (0.060402)\n",
      "mae: VOTE: -0.401313 (0.014346)\n"
     ]
    },
    {
     "data": {
      "text/plain": [
       "{'VOTE': array([-0.41455977, -0.40685361, -0.39827612, -0.3797581 , -0.38648566,\n",
       "        -0.39394714, -0.39313028, -0.40229791, -0.40447922, -0.43334473])}"
      ]
     },
     "execution_count": 24,
     "metadata": {},
     "output_type": "execute_result"
    }
   ],
   "source": [
    "cross_validate_score(temp, 'rmse')\n",
    "cross_validate_score(temp, 'mse')\n",
    "cross_validate_score(temp, 'mae')"
   ]
  },
  {
   "cell_type": "code",
   "execution_count": null,
   "metadata": {},
   "outputs": [],
   "source": []
  }
 ],
 "metadata": {
  "kernelspec": {
   "display_name": "conda_python3",
   "language": "python",
   "name": "conda_python3"
  },
  "language_info": {
   "codemirror_mode": {
    "name": "ipython",
    "version": 3
   },
   "file_extension": ".py",
   "mimetype": "text/x-python",
   "name": "python",
   "nbconvert_exporter": "python",
   "pygments_lexer": "ipython3",
   "version": "3.6.5"
  }
 },
 "nbformat": 4,
 "nbformat_minor": 4
}
