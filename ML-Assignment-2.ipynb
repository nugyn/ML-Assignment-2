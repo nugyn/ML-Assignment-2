{
 "cells": [
  {
   "cell_type": "code",
   "execution_count": 1,
   "metadata": {},
   "outputs": [],
   "source": [
    "import pandas as pd\n",
    "import sklearn\n",
    "from sklearn import preprocessing\n",
    "import datetime\n",
    "from boruta import BorutaPy\n",
    "import math\n",
    "import warnings\n",
    "warnings.simplefilter(action='ignore', category=FutureWarning)\n",
    "from sklearn.model_selection import train_test_split"
   ]
  },
  {
   "cell_type": "code",
   "execution_count": 2,
   "metadata": {},
   "outputs": [],
   "source": [
    "# Functions for Feature Generation for Time Series Data\n",
    "le_day_of_week = preprocessing.LabelEncoder()\n",
    "le_week_status = preprocessing.LabelEncoder()\n",
    "\n",
    "def secondsDay(data_frame):\n",
    "    hour = data_frame.date.dt.hour\n",
    "    minute = data_frame.date.dt.minute\n",
    "    seconds = data_frame.date.dt.second\n",
    "    return hour * 3600 + minute * 60 + seconds\n",
    "    \n",
    "def weekStatus(data_frame, label_encoder):\n",
    "    week_status_DF = pd.DataFrame(columns=['week_status'])\n",
    "    train_date_DF = pd.DataFrame(columns=['date'])\n",
    "    train_date_DF = data_frame['date']    \n",
    "    for date in train_date_DF.items():\n",
    "        day = date[1].weekday_name\n",
    "        if day == 'Saturday' or day == 'Sunday':\n",
    "            week_status_DF =  week_status_DF.append({'week_status': 'Weekend'}, ignore_index=True)\n",
    "        else:\n",
    "            week_status_DF =  week_status_DF.append({'week_status': 'Weekday'}, ignore_index=True)\n",
    "    \n",
    "    weekstatus_labels = label_encoder.fit_transform(week_status_DF.values.ravel())\n",
    "    return weekstatus_labels\n",
    "\n",
    "def dayOfWeek(data_frame, label_encoder):\n",
    "    day_of_week_label = label_encoder.fit_transform(data_frame.date.dt.weekday_name.values.ravel())\n",
    "    return day_of_week_label"
   ]
  },
  {
   "cell_type": "code",
   "execution_count": 3,
   "metadata": {},
   "outputs": [],
   "source": [
    "# Pre-process data\n",
    "train_data = pd.read_csv('s3://ml-assignment2-data/UCI-electricity/UCI_data.csv', parse_dates=True)\n",
    "\n",
    "# Generate timeseries eatures for complete dataset\n",
    "train_data['date'] = train_data['date'].astype('datetime64[ns]')\n",
    "\n",
    "# Feature Generation for Timeseries Data\n",
    "# Generate Number of Seconds from Midnight (NSM), \n",
    "nsm_series = secondsDay(train_data)\n",
    "nsm_DF = nsm_series.to_frame()\n",
    "\n",
    "# Week Status of the data, weekend or weekday\n",
    "week_status_DF = pd.DataFrame(data=weekStatus(train_data, le_week_status), columns=['week_status'])\n",
    "\n",
    "# DayOfTheWeek, for each data row\n",
    "day_of_week_DF = pd.DataFrame(data=dayOfWeek(train_data, le_day_of_week), columns=['day_of_week'])\n",
    "\n",
    "train_data['nsm'] = nsm_DF['date']\n",
    "train_data['week_status'] = week_status_DF['week_status']\n",
    "train_data['day_of_week'] = day_of_week_DF['day_of_week']\n",
    "train_data =  train_data.drop(columns=['date'])"
   ]
  },
  {
   "cell_type": "code",
   "execution_count": 4,
   "metadata": {},
   "outputs": [
    {
     "name": "stdout",
     "output_type": "stream",
     "text": [
      "<class 'pandas.core.frame.DataFrame'>\n",
      "<class 'pandas.core.frame.DataFrame'>\n"
     ]
    }
   ],
   "source": [
    "# SKLEARN to create data partition function, 75% Training, 25% Testing. \n",
    "x_train_DF = train_data.drop(columns=['TARGET_energy'])\n",
    "y_train_DF = pd.DataFrame(train_data['TARGET_energy'], columns=['TARGET_energy'])\n",
    "print(type(y_train_DF))\n",
    "print(type(x_train_DF))\n",
    "x_train_values = x_train_DF.to_numpy().astype('float64')\n",
    "y_train_values = y_train_DF.to_numpy().astype('float64')\n",
    "\n",
    "X_train, X_test, y_train, y_test = train_test_split(x_train_values, y_train_values, test_size=.25, random_state=42)"
   ]
  },
  {
   "cell_type": "code",
   "execution_count": 5,
   "metadata": {},
   "outputs": [],
   "source": [
    "independent_scaler = preprocessing.StandardScaler()\n",
    "target_scaler = preprocessing.StandardScaler()\n",
    "\n",
    "x_train_scaled = independent_scaler.fit_transform(X_train)\n",
    "y_train_scaled = target_scaler.fit_transform(y_train.reshape(-1, 1))\n",
    "\n",
    "X_train_scaled_DF = pd.DataFrame(x_train_scaled, columns=x_train_DF.columns)\n",
    "Y_train_scaled_DF = pd.DataFrame(y_train_scaled, columns=y_train_DF.columns)"
   ]
  },
  {
   "cell_type": "code",
   "execution_count": 6,
   "metadata": {},
   "outputs": [],
   "source": [
    "# Model & Feature Selection\n",
    "from sklearn.model_selection import cross_validate\n",
    "from sklearn.model_selection import cross_val_score\n",
    "from sklearn.feature_selection import RFECV\n",
    "from sklearn.model_selection import KFold\n",
    "\n",
    "# Import Models Single (LR, SVM, ANN, DT)\n",
    "from sklearn.svm import SVR\n",
    "from sklearn import tree\n",
    "from sklearn.linear_model import LinearRegression\n",
    "from sklearn.neural_network import MLPRegressor\n",
    "from sklearn.ensemble import BaggingRegressor\n",
    "from sklearn.ensemble import VotingRegressor\n",
    "\n",
    "# Import Models Ensemble (Boosting {Gradient Boosting Machines}, Averaging Methods {Voting and Bagging})\n",
    "from sklearn.ensemble import GradientBoostingRegressor\n",
    "from sklearn.ensemble  import RandomForestRegressor"
   ]
  },
  {
   "cell_type": "code",
   "execution_count": 7,
   "metadata": {},
   "outputs": [
    {
     "data": {
      "text/plain": [
       "array([ True,  True,  True,  True,  True,  True,  True,  True,  True,\n",
       "        True,  True,  True,  True,  True,  True,  True,  True,  True,\n",
       "        True,  True,  True,  True,  True,  True,  True,  True,  True,\n",
       "       False,  True])"
      ]
     },
     "execution_count": 7,
     "metadata": {},
     "output_type": "execute_result"
    }
   ],
   "source": [
    "rf = RandomForestRegressor(n_estimators=20, criterion='mse')\n",
    "\n",
    "feat_selector = RFECV(estimator=rf, step=1, cv=KFold(2))\n",
    "feat_selector.fit(X_train_scaled_DF.to_numpy(), Y_train_scaled_DF.to_numpy().ravel())\n",
    "feat_selector.support_"
   ]
  },
  {
   "cell_type": "code",
   "execution_count": 8,
   "metadata": {},
   "outputs": [
    {
     "data": {
      "text/plain": [
       "array([1, 1, 1, 1, 1, 1, 1, 1, 1, 1, 1, 1, 1, 1, 1, 1, 1, 1, 1, 1, 1, 1,\n",
       "       1, 1, 1, 1, 1, 2, 1])"
      ]
     },
     "execution_count": 8,
     "metadata": {},
     "output_type": "execute_result"
    }
   ],
   "source": [
    "feat_selector.ranking_"
   ]
  },
  {
   "cell_type": "code",
   "execution_count": 9,
   "metadata": {},
   "outputs": [
    {
     "data": {
      "text/plain": [
       "['accuracy',\n",
       " 'adjusted_mutual_info_score',\n",
       " 'adjusted_rand_score',\n",
       " 'average_precision',\n",
       " 'balanced_accuracy',\n",
       " 'completeness_score',\n",
       " 'explained_variance',\n",
       " 'f1',\n",
       " 'f1_macro',\n",
       " 'f1_micro',\n",
       " 'f1_samples',\n",
       " 'f1_weighted',\n",
       " 'fowlkes_mallows_score',\n",
       " 'homogeneity_score',\n",
       " 'jaccard',\n",
       " 'jaccard_macro',\n",
       " 'jaccard_micro',\n",
       " 'jaccard_samples',\n",
       " 'jaccard_weighted',\n",
       " 'max_error',\n",
       " 'mutual_info_score',\n",
       " 'neg_brier_score',\n",
       " 'neg_log_loss',\n",
       " 'neg_mean_absolute_error',\n",
       " 'neg_mean_gamma_deviance',\n",
       " 'neg_mean_poisson_deviance',\n",
       " 'neg_mean_squared_error',\n",
       " 'neg_mean_squared_log_error',\n",
       " 'neg_median_absolute_error',\n",
       " 'neg_root_mean_squared_error',\n",
       " 'normalized_mutual_info_score',\n",
       " 'precision',\n",
       " 'precision_macro',\n",
       " 'precision_micro',\n",
       " 'precision_samples',\n",
       " 'precision_weighted',\n",
       " 'r2',\n",
       " 'recall',\n",
       " 'recall_macro',\n",
       " 'recall_micro',\n",
       " 'recall_samples',\n",
       " 'recall_weighted',\n",
       " 'roc_auc',\n",
       " 'roc_auc_ovo',\n",
       " 'roc_auc_ovo_weighted',\n",
       " 'roc_auc_ovr',\n",
       " 'roc_auc_ovr_weighted',\n",
       " 'v_measure_score']"
      ]
     },
     "execution_count": 9,
     "metadata": {},
     "output_type": "execute_result"
    }
   ],
   "source": [
    "sorted(sklearn.metrics.SCORERS.keys())"
   ]
  },
  {
   "cell_type": "code",
   "execution_count": 10,
   "metadata": {},
   "outputs": [],
   "source": [
    "ann = MLPRegressor(random_state=0, activation='logistic', solver='sgd', tol=15000, max_iter=500)\n",
    "lm = LinearRegression()\n",
    "svr = SVR()\n",
    "dt = tree.DecisionTreeRegressor()\n",
    "\n",
    "gmb = GradientBoostingRegressor(random_state=4)\n",
    "rfg = RandomForestRegressor(random_state=0)\n",
    "\n",
    "r2 = 'r2'\n",
    "mse = 'neg_mean_squared_error'\n",
    "mae = 'neg_mean_absolute_error'\n",
    "\n",
    "scoring = {}\n",
    "scoring['r2'] =  r2\n",
    "scoring['mse'] = mse\n",
    "scoring['mae'] = mae"
   ]
  },
  {
   "cell_type": "code",
   "execution_count": 11,
   "metadata": {},
   "outputs": [],
   "source": [
    "# Train Models for Single Methods\n",
    "single_models = []\n",
    "single_models.append(('LM', lm))\n",
    "single_models.append(('SVR', svr))\n",
    "single_models.append(('ANN', ann))\n",
    "single_models.append(('DT', dt))\n",
    "\n",
    "# Train Models for Ensemble Methods\n",
    "ensemble_models = []\n",
    "ensemble_models.append(('GMB', gmb))\n",
    "ensemble_models.append(('RFG', rfg))"
   ]
  },
  {
   "cell_type": "code",
   "execution_count": 12,
   "metadata": {},
   "outputs": [],
   "source": [
    "def cross_validate_score(models, scoring_type):\n",
    "    results = []\n",
    "    names = []\n",
    "    score = {}\n",
    "    if scoring_type == 'rmse':\n",
    "        for name, model in models:\n",
    "            kfold = KFold(n_splits=10, random_state=4)\n",
    "            cv_results= cross_val_score(model, X_train_scaled_DF.to_numpy(), Y_train_scaled_DF.to_numpy().ravel(), cv=kfold, scoring = scoring['mse'])\n",
    "            results.append(cv_results)\n",
    "            names.append(name)\n",
    "            rmse = math.sqrt(-cv_results.mean())\n",
    "            score[name] = cv_results\n",
    "            msg = \"%s: %s: %f (%f)\" % (scoring_type, name, rmse, cv_results.std())\n",
    "            print(msg)\n",
    "    else:\n",
    "        for name, model in models:\n",
    "            kfold = KFold(n_splits=10, random_state=4)\n",
    "            cv_results= cross_val_score(model, X_train_scaled_DF.to_numpy(), Y_train_scaled_DF.to_numpy().ravel(), cv=kfold, scoring = scoring[scoring_type])\n",
    "            results.append(cv_results)\n",
    "            names.append(name)\n",
    "            score[name] = cv_results\n",
    "            msg = \"%s: %s: %f (%f)\" % (scoring_type, name, cv_results.mean(), cv_results.std())\n",
    "            print(msg)\n",
    "    return score"
   ]
  },
  {
   "cell_type": "code",
   "execution_count": 13,
   "metadata": {},
   "outputs": [
    {
     "name": "stdout",
     "output_type": "stream",
     "text": [
      "r2: LM: 0.158134 (0.014497)\n",
      "r2: SVR: 0.243712 (0.021276)\n",
      "r2: ANN: 0.068974 (0.007114)\n",
      "r2: DT: 0.242556 (0.105755)\n"
     ]
    }
   ],
   "source": [
    "results_r2 = cross_validate_score(single_models, 'r2')"
   ]
  },
  {
   "cell_type": "code",
   "execution_count": 14,
   "metadata": {},
   "outputs": [
    {
     "name": "stdout",
     "output_type": "stream",
     "text": [
      "mse: LM: -0.841885 (0.075510)\n",
      "mse: SVR: -0.757105 (0.077624)\n",
      "mse: ANN: -0.930982 (0.081770)\n",
      "mse: DT: -0.771863 (0.113931)\n"
     ]
    }
   ],
   "source": [
    "results_mse = cross_validate_score(single_models, 'mse')"
   ]
  },
  {
   "cell_type": "code",
   "execution_count": 15,
   "metadata": {},
   "outputs": [
    {
     "name": "stdout",
     "output_type": "stream",
     "text": [
      "rmse: LM: 0.917543 (0.075510)\n",
      "rmse: SVR: 0.870118 (0.077624)\n",
      "rmse: ANN: 0.964874 (0.081770)\n",
      "rmse: DT: 0.867032 (0.082671)\n"
     ]
    }
   ],
   "source": [
    "results_rmse = cross_validate_score(single_models, 'rmse')"
   ]
  },
  {
   "cell_type": "code",
   "execution_count": 16,
   "metadata": {},
   "outputs": [
    {
     "name": "stdout",
     "output_type": "stream",
     "text": [
      "mae: LM: -0.528563 (0.017219)\n",
      "mae: SVR: -0.370823 (0.018084)\n",
      "mae: ANN: -0.552813 (0.016507)\n",
      "mae: DT: -0.380132 (0.027329)\n"
     ]
    }
   ],
   "source": [
    "results_mae = cross_validate_score(single_models, 'mae')"
   ]
  },
  {
   "cell_type": "code",
   "execution_count": 17,
   "metadata": {},
   "outputs": [],
   "source": [
    "# Performance plotting\n",
    "import matplotlib.pyplot as plt\n",
    "\n",
    "def generate_comparison(results, scoring_type):\n",
    "    labels, data = [*zip(*results.items())]\n",
    "    fig = plt.figure()\n",
    "    fig.suptitle('Model Comparison on {}'.format(scoring_type))\n",
    "    ax = fig.add_subplot(111)\n",
    "    plt.boxplot(data)\n",
    "    ax.set_xticklabels(labels)\n",
    "    plt.show()"
   ]
  },
  {
   "cell_type": "code",
   "execution_count": 18,
   "metadata": {},
   "outputs": [
    {
     "data": {
      "image/png": "[encoded data removed]",
      "text/plain": [
       "<Figure size 432x288 with 1 Axes>"
      ]
     },
     "metadata": {},
     "output_type": "display_data"
    },
    {
     "data": {
      "image/png": "[encoded data removed]",
      "text/plain": [
       "<Figure size 432x288 with 1 Axes>"
      ]
     },
     "metadata": {},
     "output_type": "display_data"
    },
    {
     "data": {
      "image/png": "[encoded data removed]",
      "text/plain": [
       "<Figure size 432x288 with 1 Axes>"
      ]
     },
     "metadata": {},
     "output_type": "display_data"
    },
    {
     "data": {
      "image/png": "[encoded data removed]",
      "text/plain": [
       "<Figure size 432x288 with 1 Axes>"
      ]
     },
     "metadata": {},
     "output_type": "display_data"
    }
   ],
   "source": [
    "#INIT TODO: Change negative numbers into positive\n",
    "generate_comparison(results_r2, 'r2')\n",
    "generate_comparison(results_mae, 'mae')\n",
    "generate_comparison(results_mae, 'rmse')\n",
    "generate_comparison(results_mae, 'mse')"
   ]
  },
  {
   "cell_type": "code",
   "execution_count": 19,
   "metadata": {},
   "outputs": [
    {
     "name": "stdout",
     "output_type": "stream",
     "text": [
      "r2: VOTE: 0.359228 (0.023679)\n",
      "rmse: VOTE: 0.798818 (0.057596)\n",
      "mse: VOTE: -0.638805 (0.058191)\n",
      "mae: VOTE: -0.401578 (0.014729)\n"
     ]
    },
    {
     "data": {
      "text/plain": [
       "{'VOTE': array([-0.40864754, -0.4086826 , -0.40021771, -0.3793387 , -0.38502615,\n",
       "        -0.39236973, -0.39089903, -0.40807026, -0.40937423, -0.4331527 ])}"
      ]
     },
     "execution_count": 19,
     "metadata": {},
     "output_type": "execute_result"
    }
   ],
   "source": [
    "# Ensemble Methods\n",
    "\n",
    "# --- Averaging Methods ---\n",
    "# Voting (ANNs, CART, SVR, LR)\n",
    "temp = []\n",
    "vote = VotingRegressor(single_models)\n",
    "temp.append(('VOTE', vote))\n",
    "cross_validate_score(temp, 'r2')\n",
    "cross_validate_score(temp, 'rmse')\n",
    "cross_validate_score(temp, 'mse')\n",
    "cross_validate_score(temp, 'mae')"
   ]
  },
  {
   "cell_type": "code",
   "execution_count": 20,
   "metadata": {},
   "outputs": [
    {
     "name": "stdout",
     "output_type": "stream",
     "text": [
      "r2: LM: 0.157614 (0.014361)\n",
      "r2: SVR: 0.248280 (0.021733)\n",
      "r2: DT: 0.523344 (0.036481)\n",
      "r2: ANN: 0.075715 (0.008376)\n",
      "mse: LM: -0.842274 (0.075395)\n",
      "mse: SVR: -0.752084 (0.077036)\n",
      "mse: DT: -0.473656 (0.048235)\n",
      "mse: ANN: -0.925056 (0.080585)\n",
      "rmse: LM: 0.917834 (0.075473)\n",
      "rmse: SVR: 0.867870 (0.077430)\n",
      "rmse: DT: 0.689802 (0.052229)\n",
      "rmse: ANN: 0.961908 (0.080687)\n",
      "mae: LM: -0.528084 (0.017714)\n",
      "mae: SVR: -0.372684 (0.017661)\n",
      "mae: DT: -0.331216 (0.012572)\n",
      "mae: ANN: -0.558040 (0.017515)\n",
      "r2: GMB: 0.307916 (0.016356)\n",
      "r2: RFG: 0.569899 (0.029771)\n",
      "mse: GMB: -0.691852 (0.059601)\n",
      "mse: RFG: -0.429830 (0.044561)\n",
      "rmse: GMB: 0.831776 (0.059601)\n",
      "rmse: RFG: 0.655615 (0.044561)\n",
      "mae: GMB: -0.453823 (0.014155)\n",
      "mae: RFG: -0.314317 (0.015034)\n"
     ]
    }
   ],
   "source": [
    "# --- Averaging ---\n",
    "# Bagging (ANN, LM, SVR, CART)\n",
    "# Voting\n",
    "# Random Forest Trees (Decision Trees)\n",
    "# --- Boosting ---\n",
    "# Gradient Boosting Machines\n",
    "\n",
    "bagging_models = []\n",
    "bagging_models.append(('LM', BaggingRegressor(lm)))\n",
    "bagging_models.append(('SVR', BaggingRegressor(svr)))\n",
    "bagging_models.append(('DT', BaggingRegressor(dt)))\n",
    "bagging_models.append(('ANN', BaggingRegressor(ann)))\n",
    "\n",
    "results_bagging_r2 = cross_validate_score(bagging_models, 'r2')\n",
    "results_bagging_mse = cross_validate_score(bagging_models, 'mse')\n",
    "results_bagging_rmse = cross_validate_score(bagging_models, 'rmse')\n",
    "results_bagging_mae = cross_validate_score(bagging_models, 'mae')\n",
    "\n",
    "# GMB & RFG (Boosting & Averaging)\n",
    "results_bagging_r2 = cross_validate_score(ensemble_models, 'r2')\n",
    "results_bagging_mse = cross_validate_score(ensemble_models, 'mse')\n",
    "results_bagging_rmse = cross_validate_score(ensemble_models, 'rmse')\n",
    "results_bagging_mae = cross_validate_score(ensemble_models, 'mae')"
   ]
  },
  {
   "cell_type": "code",
   "execution_count": 29,
   "metadata": {},
   "outputs": [
    {
     "name": "stdout",
     "output_type": "stream",
     "text": [
      "r2: RF: 0.554325 (0.029282)\n",
      "rmse: RF: 0.670464 (0.046823)\n",
      "mse: RF: -0.445178 (0.044867)\n",
      "mae: RF: -0.321067 (0.013818)\n"
     ]
    }
   ],
   "source": [
    "# Train Model with Testing Set \n",
    "# RF Train on test Data\n",
    "x_test_scaled = independent_scaler.fit_transform(X_train)\n",
    "y_test_scaled = target_scaler.fit_transform(y_train.reshape(-1, 1))\n",
    "\n",
    "X_test_scaled_DF = pd.DataFrame(x_test_scaled, columns=x_train_DF.columns)\n",
    "Y_test_scaled_DF = pd.DataFrame(y_test_scaled, columns=y_train_DF.columns)\n",
    "\n",
    "def cross_validate_score_test(models, scoring_type, X_test_data, Y_test_data):\n",
    "    results = []\n",
    "    names = []\n",
    "    score = {}\n",
    "    if scoring_type == 'rmse':\n",
    "        for name, model in models:\n",
    "            kfold = KFold(n_splits=10, random_state=4)\n",
    "            cv_results= cross_val_score(model, X_test_data.to_numpy(), Y_test_data.to_numpy().ravel(), cv=kfold, scoring = scoring['mse'])\n",
    "            results.append(cv_results)\n",
    "            names.append(name)\n",
    "            rmse = math.sqrt(-cv_results.mean())\n",
    "            score[name] = cv_results\n",
    "            msg = \"%s: %s: %f (%f)\" % (scoring_type, name, rmse, cv_results.std())\n",
    "            print(msg)\n",
    "    else:\n",
    "        for name, model in models:\n",
    "            kfold = KFold(n_splits=10, random_state=4)\n",
    "            cv_results= cross_val_score(model, X_test_data.to_numpy(), Y_test_data.to_numpy().ravel(), cv=kfold, scoring = scoring[scoring_type])\n",
    "            results.append(cv_results)\n",
    "            names.append(name)\n",
    "            score[name] = cv_results\n",
    "            msg = \"%s: %s: %f (%f)\" % (scoring_type, name, cv_results.mean(), cv_results.std())\n",
    "            print(msg)\n",
    "    return score\n",
    "\n",
    "\n",
    "model = []\n",
    "model.append(('RF', rf))\n",
    "results_randomforest_r2 = cross_validate_score_test(model, 'r2', X_test_scaled_DF, Y_test_scaled_DF)\n",
    "results_randomforest_rmse = cross_validate_score_test(model, 'rmse', X_test_scaled_DF, Y_test_scaled_DF)\n",
    "results_randomforest_mse = cross_validate_score_test(model, 'mse', X_test_scaled_DF, Y_test_scaled_DF)\n",
    "results_randomforest_mae = cross_validate_score_test(model, 'mae', X_test_scaled_DF, Y_test_scaled_DF)"
   ]
  },
  {
   "cell_type": "code",
   "execution_count": 62,
   "metadata": {},
   "outputs": [],
   "source": [
    "model = rf.fit(x_train_scaled, y_train_scaled.ravel())"
   ]
  },
  {
   "cell_type": "code",
   "execution_count": 63,
   "metadata": {},
   "outputs": [],
   "source": [
    "predY = rf.predict(x_test_scaled)"
   ]
  },
  {
   "cell_type": "code",
   "execution_count": 64,
   "metadata": {},
   "outputs": [],
   "source": [
    "from IPython.display import FileLink, FileLinks\n",
    "import numpy as np\n",
    "#Unscale results, and export as CSV\n",
    "predY_DF = pd.DataFrame(predY)\n",
    "predY_unscaled = target_scaler.inverse_transform(predY_DF)\n",
    "predY_DF_unscaled = pd.DataFrame(predY_unscaled)\n",
    "predY_DF_unscaled\n",
    "csv = predY_DF_unscaled.to_csv('predictedY.csv', index=False)"
   ]
  },
  {
   "cell_type": "code",
   "execution_count": 66,
   "metadata": {},
   "outputs": [],
   "source": [
    "from sklearn.metrics import r2_score\n",
    "r2 = r2_score(y_test_scaled, predY)"
   ]
  },
  {
   "cell_type": "code",
   "execution_count": 67,
   "metadata": {},
   "outputs": [
    {
     "data": {
      "text/plain": [
       "0.9332059521993651"
      ]
     },
     "execution_count": 67,
     "metadata": {},
     "output_type": "execute_result"
    }
   ],
   "source": [
    "r2"
   ]
  },
  {
   "cell_type": "code",
   "execution_count": null,
   "metadata": {},
   "outputs": [],
   "source": []
  }
 ],
 "metadata": {
  "kernelspec": {
   "display_name": "conda_python3",
   "language": "python",
   "name": "conda_python3"
  },
  "language_info": {
   "codemirror_mode": {
    "name": "ipython",
    "version": 3
   },
   "file_extension": ".py",
   "mimetype": "text/x-python",
   "name": "python",
   "nbconvert_exporter": "python",
   "pygments_lexer": "ipython3",
   "version": "3.6.5"
  }
 },
 "nbformat": 4,
 "nbformat_minor": 4
}
