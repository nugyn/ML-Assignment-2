{
 "cells": [
  {
   "cell_type": "code",
   "execution_count": 4,
   "metadata": {},
   "outputs": [],
   "source": [
    "import pandas as pd\n",
    "import sklearn\n",
    "from sklearn import preprocessing\n",
    "import datetime\n",
    "from boruta import BorutaPy\n",
    "import math\n",
    "import warnings\n",
    "warnings.simplefilter(action='ignore', category=FutureWarning)\n",
    "from sklearn.model_selection import train_test_split"
   ]
  },
  {
   "cell_type": "code",
   "execution_count": 5,
   "metadata": {},
   "outputs": [],
   "source": [
    "# Functions for Feature Generation for Time Series Data\n",
    "le_day_of_week = preprocessing.LabelEncoder()\n",
    "le_week_status = preprocessing.LabelEncoder()\n",
    "\n",
    "def secondsDay(data_frame):\n",
    "    hour = data_frame.date.dt.hour\n",
    "    minute = data_frame.date.dt.minute\n",
    "    seconds = data_frame.date.dt.second\n",
    "    return hour * 3600 + minute * 60 + seconds\n",
    "    \n",
    "def weekStatus(data_frame, label_encoder):\n",
    "    week_status_DF = pd.DataFrame(columns=['week_status'])\n",
    "    train_date_DF = pd.DataFrame(columns=['date'])\n",
    "    train_date_DF = data_frame['date']    \n",
    "    for date in train_date_DF.items():\n",
    "        day = date[1].weekday_name\n",
    "        if day == 'Saturday' or day == 'Sunday':\n",
    "            week_status_DF =  week_status_DF.append({'week_status': 'Weekend'}, ignore_index=True)\n",
    "        else:\n",
    "            week_status_DF =  week_status_DF.append({'week_status': 'Weekday'}, ignore_index=True)\n",
    "    \n",
    "    weekstatus_labels = label_encoder.fit_transform(week_status_DF.values.ravel())\n",
    "    return weekstatus_labels\n",
    "\n",
    "def dayOfWeek(data_frame, label_encoder):\n",
    "    day_of_week_label = label_encoder.fit_transform(data_frame.date.dt.weekday_name.values.ravel())\n",
    "    return day_of_week_label"
   ]
  },
  {
   "cell_type": "code",
   "execution_count": 6,
   "metadata": {},
   "outputs": [],
   "source": [
    "# Pre-process data\n",
    "train_data = pd.read_csv('s3://ml-assignment2-data/UCI-electricity/UCI_data.csv', parse_dates=True)\n",
    "\n",
    "# Generate timeseries eatures for complete dataset\n",
    "train_data['date'] = train_data['date'].astype('datetime64[ns]')\n",
    "\n",
    "# Feature Generation for Timeseries Data\n",
    "# Generate Number of Seconds from Midnight (NSM), \n",
    "nsm_series = secondsDay(train_data)\n",
    "nsm_DF = nsm_series.to_frame()\n",
    "\n",
    "# Week Status of the data, weekend or weekday\n",
    "week_status_DF = pd.DataFrame(data=weekStatus(train_data, le_week_status), columns=['week_status'])\n",
    "\n",
    "# DayOfTheWeek, for each data row\n",
    "day_of_week_DF = pd.DataFrame(data=dayOfWeek(train_data, le_day_of_week), columns=['day_of_week'])\n",
    "\n",
    "train_data['nsm'] = nsm_DF['date']\n",
    "train_data['week_status'] = week_status_DF['week_status']\n",
    "train_data['day_of_week'] = day_of_week_DF['day_of_week']\n",
    "train_data =  train_data.drop(columns=['date'])"
   ]
  },
  {
   "cell_type": "code",
   "execution_count": 7,
   "metadata": {},
   "outputs": [
    {
     "name": "stdout",
     "output_type": "stream",
     "text": [
      "<class 'pandas.core.frame.DataFrame'>\n",
      "<class 'pandas.core.frame.DataFrame'>\n"
     ]
    }
   ],
   "source": [
    "# SKLEARN to create data partition function, 75% Training, 25% Testing. \n",
    "x_train_DF = train_data.drop(columns=['TARGET_energy'])\n",
    "y_train_DF = pd.DataFrame(train_data['TARGET_energy'], columns=['TARGET_energy'])\n",
    "print(type(y_train_DF))\n",
    "print(type(x_train_DF))\n",
    "x_train_values = x_train_DF.to_numpy().astype('float64')\n",
    "y_train_values = y_train_DF.to_numpy().astype('float64')\n",
    "\n",
    "X_train, X_test, y_train, y_test = train_test_split(x_train_values, y_train_values, test_size=.25, random_state=42)"
   ]
  },
  {
   "cell_type": "code",
   "execution_count": 8,
   "metadata": {},
   "outputs": [],
   "source": [
    "independent_scaler = preprocessing.StandardScaler()\n",
    "target_scaler = preprocessing.StandardScaler()\n",
    "\n",
    "x_train_scaled = independent_scaler.fit_transform(X_train)\n",
    "y_train_scaled = target_scaler.fit_transform(y_train.reshape(-1, 1))\n",
    "\n",
    "X_train_scaled_DF = pd.DataFrame(x_train_scaled, columns=x_train_DF.columns)\n",
    "Y_train_scaled_DF = pd.DataFrame(y_train_scaled, columns=y_train_DF.columns)"
   ]
  },
  {
   "cell_type": "code",
   "execution_count": 9,
   "metadata": {},
   "outputs": [],
   "source": [
    "# Model & Feature Selection\n",
    "from sklearn.model_selection import cross_validate\n",
    "from sklearn.model_selection import cross_val_score\n",
    "from sklearn.feature_selection import RFECV\n",
    "from sklearn.model_selection import KFold\n",
    "\n",
    "# Import Models Single (LR, SVM, ANN, DT)\n",
    "from sklearn.svm import SVR\n",
    "from sklearn import tree\n",
    "from sklearn.linear_model import LinearRegression\n",
    "from sklearn.neural_network import MLPRegressor\n",
    "from sklearn.ensemble import BaggingRegressor\n",
    "from sklearn.ensemble import VotingRegressor\n",
    "\n",
    "# Import Models Ensemble (Boosting {Gradient Boosting Machines}, Averaging Methods {Voting and Bagging})\n",
    "from sklearn.ensemble import GradientBoostingRegressor\n",
    "from sklearn.ensemble  import RandomForestRegressor"
   ]
  },
  {
   "cell_type": "code",
   "execution_count": 10,
   "metadata": {},
   "outputs": [
    {
     "data": {
      "text/plain": [
       "array([ True,  True,  True,  True,  True,  True,  True,  True,  True,\n",
       "        True,  True,  True,  True,  True,  True,  True,  True,  True,\n",
       "        True,  True,  True,  True,  True,  True,  True,  True,  True,\n",
       "        True,  True])"
      ]
     },
     "execution_count": 10,
     "metadata": {},
     "output_type": "execute_result"
    }
   ],
   "source": [
    "rf = RandomForestRegressor(n_estimators=20, criterion='mse')\n",
    "\n",
    "feat_selector = RFECV(estimator=rf, step=1, cv=KFold(2))\n",
    "feat_selector.fit(X_train_scaled_DF.to_numpy(), Y_train_scaled_DF.to_numpy().ravel())\n",
    "feat_selector.support_"
   ]
  },
  {
   "cell_type": "code",
   "execution_count": 11,
   "metadata": {},
   "outputs": [
    {
     "data": {
      "text/plain": [
       "array([1, 1, 1, 1, 1, 1, 1, 1, 1, 1, 1, 1, 1, 1, 1, 1, 1, 1, 1, 1, 1, 1,\n",
       "       1, 1, 1, 1, 1, 1, 1])"
      ]
     },
     "execution_count": 11,
     "metadata": {},
     "output_type": "execute_result"
    }
   ],
   "source": [
    "feat_selector.ranking_"
   ]
  },
  {
   "cell_type": "code",
   "execution_count": 12,
   "metadata": {},
   "outputs": [
    {
     "data": {
      "text/plain": [
       "['accuracy',\n",
       " 'adjusted_mutual_info_score',\n",
       " 'adjusted_rand_score',\n",
       " 'average_precision',\n",
       " 'balanced_accuracy',\n",
       " 'completeness_score',\n",
       " 'explained_variance',\n",
       " 'f1',\n",
       " 'f1_macro',\n",
       " 'f1_micro',\n",
       " 'f1_samples',\n",
       " 'f1_weighted',\n",
       " 'fowlkes_mallows_score',\n",
       " 'homogeneity_score',\n",
       " 'jaccard',\n",
       " 'jaccard_macro',\n",
       " 'jaccard_micro',\n",
       " 'jaccard_samples',\n",
       " 'jaccard_weighted',\n",
       " 'max_error',\n",
       " 'mutual_info_score',\n",
       " 'neg_brier_score',\n",
       " 'neg_log_loss',\n",
       " 'neg_mean_absolute_error',\n",
       " 'neg_mean_gamma_deviance',\n",
       " 'neg_mean_poisson_deviance',\n",
       " 'neg_mean_squared_error',\n",
       " 'neg_mean_squared_log_error',\n",
       " 'neg_median_absolute_error',\n",
       " 'neg_root_mean_squared_error',\n",
       " 'normalized_mutual_info_score',\n",
       " 'precision',\n",
       " 'precision_macro',\n",
       " 'precision_micro',\n",
       " 'precision_samples',\n",
       " 'precision_weighted',\n",
       " 'r2',\n",
       " 'recall',\n",
       " 'recall_macro',\n",
       " 'recall_micro',\n",
       " 'recall_samples',\n",
       " 'recall_weighted',\n",
       " 'roc_auc',\n",
       " 'roc_auc_ovo',\n",
       " 'roc_auc_ovo_weighted',\n",
       " 'roc_auc_ovr',\n",
       " 'roc_auc_ovr_weighted',\n",
       " 'v_measure_score']"
      ]
     },
     "execution_count": 12,
     "metadata": {},
     "output_type": "execute_result"
    }
   ],
   "source": [
    "sorted(sklearn.metrics.SCORERS.keys())"
   ]
  },
  {
   "cell_type": "code",
   "execution_count": 86,
   "metadata": {},
   "outputs": [],
   "source": [
    "ann = MLPRegressor(random_state=0, activation='logistic', solver='sgd', tol=15000, max_iter=500)\n",
    "lm = LinearRegression()\n",
    "svr = SVR()\n",
    "dt = tree.DecisionTreeRegressor()\n",
    "\n",
    "gmb = GradientBoostingRegressor(random_state=0, n_estimators=10000, max_depth=5)\n",
    "rfg = RandomForestRegressor(random_state=0)\n",
    "\n",
    "r2 = 'r2'\n",
    "mse = 'neg_mean_squared_error'\n",
    "mae = 'neg_mean_absolute_error'\n",
    "\n",
    "scoring = {}\n",
    "scoring['r2'] =  r2\n",
    "scoring['mse'] = mse\n",
    "scoring['mae'] = mae"
   ]
  },
  {
   "cell_type": "code",
   "execution_count": 87,
   "metadata": {},
   "outputs": [],
   "source": [
    "# Train Models for Single Methods\n",
    "single_models = []\n",
    "single_models.append(('LM', lm))\n",
    "single_models.append(('SVR', svr))\n",
    "single_models.append(('ANN', ann))\n",
    "single_models.append(('DT', dt))\n",
    "\n",
    "# Train Models for Ensemble Methods\n",
    "ensemble_models = []\n",
    "ensemble_models.append(('GMB', gmb))\n",
    "ensemble_models.append(('RFG', rfg))"
   ]
  },
  {
   "cell_type": "code",
   "execution_count": 15,
   "metadata": {},
   "outputs": [],
   "source": [
    "# Performance plotting\n",
    "import matplotlib.pyplot as plt\n",
    "\n",
    "def cross_validate_score(models, scoring_type):\n",
    "    results = []\n",
    "    names = []\n",
    "    score = {}\n",
    "    if scoring_type == 'rmse':\n",
    "        for name, model in models:\n",
    "            kfold = KFold(n_splits=10, random_state=4)\n",
    "            cv_results= cross_val_score(model, X_train_scaled_DF.to_numpy(), Y_train_scaled_DF.to_numpy().ravel(), cv=kfold, scoring = scoring['mse'])\n",
    "            results.append(cv_results)\n",
    "            names.append(name)\n",
    "            rmse = math.sqrt(-cv_results.mean())\n",
    "            score[name] = cv_results\n",
    "            msg = \"%s: %s: %f (%f)\" % (scoring_type, name, rmse, cv_results.std())\n",
    "            print(msg)\n",
    "    else:\n",
    "        for name, model in models:\n",
    "            kfold = KFold(n_splits=10, random_state=4)\n",
    "            cv_results= cross_val_score(model, X_train_scaled_DF.to_numpy(), Y_train_scaled_DF.to_numpy().ravel(), cv=kfold, scoring = scoring[scoring_type])\n",
    "            results.append(cv_results)\n",
    "            names.append(name)\n",
    "            score[name] = cv_results\n",
    "            msg = \"%s: %s: %f (%f)\" % (scoring_type, name, cv_results.mean(), cv_results.std())\n",
    "            print(msg)\n",
    "    return score\n",
    "\n",
    "def cross_validate_score_test(models, scoring_type, X_test_data, Y_test_data):\n",
    "    results = []\n",
    "    names = []\n",
    "    score = {}\n",
    "    if scoring_type == 'rmse':\n",
    "        for name, model in models:\n",
    "            kfold = KFold(n_splits=10, random_state=4)\n",
    "            cv_results= cross_val_score(model, X_test_data.to_numpy(), Y_test_data.to_numpy().ravel(), cv=kfold, scoring = scoring['mse'])\n",
    "            results.append(cv_results)\n",
    "            names.append(name)\n",
    "            rmse = math.sqrt(-cv_results.mean())\n",
    "            score[name] = cv_results\n",
    "            msg = \"%s: %s: %f (%f)\" % (scoring_type, name, rmse, cv_results.std())\n",
    "            print(msg)\n",
    "    else:\n",
    "        for name, model in models:\n",
    "            kfold = KFold(n_splits=10, random_state=4)\n",
    "            cv_results= cross_val_score(model, X_test_data.to_numpy(), Y_test_data.to_numpy().ravel(), cv=kfold, scoring = scoring[scoring_type])\n",
    "            results.append(cv_results)\n",
    "            names.append(name)\n",
    "            score[name] = cv_results\n",
    "            msg = \"%s: %s: %f (%f)\" % (scoring_type, name, cv_results.mean(), cv_results.std())\n",
    "            print(msg)\n",
    "    return score\n",
    "\n",
    "def generate_comparison(results, scoring_type):\n",
    "    labels, data = [*zip(*results.items())]\n",
    "    fig = plt.figure()\n",
    "    fig.suptitle('Model Comparison on {}'.format(scoring_type))\n",
    "    ax = fig.add_subplot(111)\n",
    "    plt.boxplot(data)\n",
    "    ax.set_xticklabels(labels)\n",
    "    plt.show()"
   ]
  },
  {
   "cell_type": "code",
   "execution_count": 16,
   "metadata": {},
   "outputs": [
    {
     "name": "stdout",
     "output_type": "stream",
     "text": [
      "r2: LM: 0.158134 (0.014497)\n",
      "r2: SVR: 0.243712 (0.021276)\n",
      "r2: ANN: 0.068974 (0.007114)\n",
      "r2: DT: 0.238067 (0.107271)\n"
     ]
    }
   ],
   "source": [
    "results_r2 = cross_validate_score(single_models, 'r2')"
   ]
  },
  {
   "cell_type": "code",
   "execution_count": 17,
   "metadata": {},
   "outputs": [
    {
     "name": "stdout",
     "output_type": "stream",
     "text": [
      "mse: LM: -0.841885 (0.075510)\n",
      "mse: SVR: -0.757105 (0.077624)\n",
      "mse: ANN: -0.930982 (0.081770)\n",
      "mse: DT: -0.747608 (0.085395)\n"
     ]
    }
   ],
   "source": [
    "results_mse = cross_validate_score(single_models, 'mse')"
   ]
  },
  {
   "cell_type": "code",
   "execution_count": 18,
   "metadata": {},
   "outputs": [
    {
     "name": "stdout",
     "output_type": "stream",
     "text": [
      "rmse: LM: 0.917543 (0.075510)\n",
      "rmse: SVR: 0.870118 (0.077624)\n",
      "rmse: ANN: 0.964874 (0.081770)\n",
      "rmse: DT: 0.875283 (0.097016)\n"
     ]
    }
   ],
   "source": [
    "results_rmse = cross_validate_score(single_models, 'rmse')"
   ]
  },
  {
   "cell_type": "code",
   "execution_count": 19,
   "metadata": {},
   "outputs": [
    {
     "name": "stdout",
     "output_type": "stream",
     "text": [
      "mae: LM: -0.528563 (0.017219)\n",
      "mae: SVR: -0.370823 (0.018084)\n",
      "mae: ANN: -0.552813 (0.016507)\n",
      "mae: DT: -0.377177 (0.030616)\n"
     ]
    }
   ],
   "source": [
    "results_mae = cross_validate_score(single_models, 'mae')"
   ]
  },
  {
   "cell_type": "code",
   "execution_count": 20,
   "metadata": {},
   "outputs": [
    {
     "data": {
      "image/png": "[encoded data removed]",
      "text/plain": [
       "<Figure size 432x288 with 1 Axes>"
      ]
     },
     "metadata": {},
     "output_type": "display_data"
    },
    {
     "data": {
      "image/png": "[encoded data removed]",
      "text/plain": [
       "<Figure size 432x288 with 1 Axes>"
      ]
     },
     "metadata": {},
     "output_type": "display_data"
    },
    {
     "data": {
      "image/png": "[encoded data removed]",
      "text/plain": [
       "<Figure size 432x288 with 1 Axes>"
      ]
     },
     "metadata": {},
     "output_type": "display_data"
    },
    {
     "data": {
      "image/png": "[encoded data removed]",
      "text/plain": [
       "<Figure size 432x288 with 1 Axes>"
      ]
     },
     "metadata": {},
     "output_type": "display_data"
    }
   ],
   "source": [
    "#INIT TODO: Change negative numbers into positive\n",
    "generate_comparison(results_r2, 'r2')\n",
    "generate_comparison(results_mae, 'mae')\n",
    "generate_comparison(results_mae, 'rmse')\n",
    "generate_comparison(results_mae, 'mse')"
   ]
  },
  {
   "cell_type": "code",
   "execution_count": 21,
   "metadata": {},
   "outputs": [
    {
     "name": "stdout",
     "output_type": "stream",
     "text": [
      "r2: VOTE: 0.356247 (0.022391)\n",
      "rmse: VOTE: 0.801191 (0.060421)\n",
      "mse: VOTE: -0.640052 (0.059364)\n",
      "mae: VOTE: -0.400780 (0.015337)\n"
     ]
    }
   ],
   "source": [
    "# Ensemble Methods\n",
    "\n",
    "# --- Averaging Methods ---\n",
    "# Voting (ANNs, CART, SVR, LR)\n",
    "vote_models = []\n",
    "vote = VotingRegressor(single_models)\n",
    "vote_models.append(('VOTE', vote))\n",
    "results_vote_r2 = cross_validate_score(vote_models, 'r2')\n",
    "results_vote_rmse = cross_validate_score(vote_models, 'rmse')\n",
    "results_vote_mse = cross_validate_score(vote_models, 'mse')\n",
    "results_vote_mae = cross_validate_score(vote_models, 'mae')"
   ]
  },
  {
   "cell_type": "code",
   "execution_count": 22,
   "metadata": {},
   "outputs": [],
   "source": [
    "results_vote = {}\n",
    "results_vote['R2'] = results_vote_r2\n",
    "results_vote['RMSE'] = results_vote_rmse\n",
    "results_vote['MSE'] = results_vote_mse\n",
    "results_vote['MAE'] = results_vote_mae"
   ]
  },
  {
   "cell_type": "code",
   "execution_count": null,
   "metadata": {},
   "outputs": [],
   "source": []
  },
  {
   "cell_type": "code",
   "execution_count": 23,
   "metadata": {},
   "outputs": [
    {
     "name": "stdout",
     "output_type": "stream",
     "text": [
      "r2: LM: 0.158078 (0.014294)\n",
      "r2: SVR: 0.247608 (0.022322)\n",
      "r2: DT: 0.535188 (0.028097)\n",
      "r2: ANN: 0.074857 (0.007607)\n",
      "mse: LM: -0.842134 (0.075541)\n",
      "mse: SVR: -0.752159 (0.078046)\n",
      "mse: DT: -0.472521 (0.039683)\n",
      "mse: ANN: -0.924793 (0.081287)\n",
      "rmse: LM: 0.917406 (0.075436)\n",
      "rmse: SVR: 0.866712 (0.075992)\n",
      "rmse: DT: 0.686926 (0.051817)\n",
      "rmse: ANN: 0.962105 (0.080315)\n",
      "mae: LM: -0.528672 (0.016820)\n",
      "mae: SVR: -0.372332 (0.018068)\n",
      "mae: DT: -0.329864 (0.014427)\n",
      "mae: ANN: -0.555520 (0.016698)\n",
      "r2: GMB: 0.307916 (0.016356)\n",
      "r2: RFG: 0.569899 (0.029771)\n",
      "mse: GMB: -0.691852 (0.059601)\n",
      "mse: RFG: -0.429830 (0.044561)\n",
      "rmse: GMB: 0.831776 (0.059601)\n",
      "rmse: RFG: 0.655615 (0.044561)\n",
      "mae: GMB: -0.453823 (0.014155)\n",
      "mae: RFG: -0.314317 (0.015034)\n"
     ]
    }
   ],
   "source": [
    "# --- Averaging ---\n",
    "# Bagging (ANN, LM, SVR, CART)\n",
    "# Voting\n",
    "# Random Forest Trees (Decision Trees)\n",
    "# --- Boosting ---\n",
    "# Gradient Boosting Machines\n",
    "\n",
    "bagging_models = []\n",
    "bagging_models.append(('LM', BaggingRegressor(lm)))\n",
    "bagging_models.append(('SVR', BaggingRegressor(svr)))\n",
    "bagging_models.append(('DT', BaggingRegressor(dt)))\n",
    "bagging_models.append(('ANN', BaggingRegressor(ann)))\n",
    "\n",
    "# Bagging\n",
    "results_bagging_r2 = cross_validate_score(bagging_models, 'r2')\n",
    "results_bagging_mse = cross_validate_score(bagging_models, 'mse')\n",
    "results_bagging_rmse = cross_validate_score(bagging_models, 'rmse')\n",
    "results_bagging_mae = cross_validate_score(bagging_models, 'mae')\n",
    "\n",
    "# GMB & RFG (Boosting & Averaging)\n",
    "results_ensemble_r2 = cross_validate_score(ensemble_models, 'r2')\n",
    "results_ensemble_mse = cross_validate_score(ensemble_models, 'mse')\n",
    "results_ensemble_rmse = cross_validate_score(ensemble_models, 'rmse')\n",
    "results_ensemble_mae = cross_validate_score(ensemble_models, 'mae')"
   ]
  },
  {
   "cell_type": "code",
   "execution_count": 24,
   "metadata": {},
   "outputs": [
    {
     "name": "stdout",
     "output_type": "stream",
     "text": [
      "Bagging all Single Models\n"
     ]
    },
    {
     "data": {
      "image/png": "[encoded data removed]",
      "text/plain": [
       "<Figure size 432x288 with 1 Axes>"
      ]
     },
     "metadata": {},
     "output_type": "display_data"
    },
    {
     "data": {
      "image/png": "[encoded data removed]",
      "text/plain": [
       "<Figure size 432x288 with 1 Axes>"
      ]
     },
     "metadata": {},
     "output_type": "display_data"
    },
    {
     "data": {
      "image/png": "[encoded data removed]",
      "text/plain": [
       "<Figure size 432x288 with 1 Axes>"
      ]
     },
     "metadata": {},
     "output_type": "display_data"
    },
    {
     "data": {
      "image/png": "[encoded data removed]",
      "text/plain": [
       "<Figure size 432x288 with 1 Axes>"
      ]
     },
     "metadata": {},
     "output_type": "display_data"
    },
    {
     "name": "stdout",
     "output_type": "stream",
     "text": [
      "Boosting vs Averaging Technique\n"
     ]
    },
    {
     "data": {
      "image/png": "[encoded data removed]",
      "text/plain": [
       "<Figure size 432x288 with 1 Axes>"
      ]
     },
     "metadata": {},
     "output_type": "display_data"
    },
    {
     "data": {
      "image/png": "[encoded data removed]",
      "text/plain": [
       "<Figure size 432x288 with 1 Axes>"
      ]
     },
     "metadata": {},
     "output_type": "display_data"
    },
    {
     "data": {
      "image/png": "[encoded data removed]",
      "text/plain": [
       "<Figure size 432x288 with 1 Axes>"
      ]
     },
     "metadata": {},
     "output_type": "display_data"
    },
    {
     "data": {
      "image/png": "[encoded data removed]",
      "text/plain": [
       "<Figure size 432x288 with 1 Axes>"
      ]
     },
     "metadata": {},
     "output_type": "display_data"
    },
    {
     "name": "stdout",
     "output_type": "stream",
     "text": [
      "Voting Results\n"
     ]
    }
   ],
   "source": [
    "print(\"Bagging all Single Models\")\n",
    "generate_comparison(results_bagging_r2, 'r2')\n",
    "generate_comparison(results_bagging_mae, 'mae')\n",
    "generate_comparison(results_bagging_mse, 'mse')\n",
    "generate_comparison(results_bagging_rmse, 'rmse')\n",
    "#RFG and GMB\n",
    "print(\"Boosting vs Averaging Technique\")\n",
    "generate_comparison(results_ensemble_r2, 'r2')\n",
    "generate_comparison(results_ensemble_mae, 'mae')\n",
    "generate_comparison(results_ensemble_mse, 'mse')\n",
    "generate_comparison(results_ensemble_rmse, 'rmse')\n",
    "\n",
    "print(\"Voting Results\")\n"
   ]
  },
  {
   "cell_type": "code",
   "execution_count": 76,
   "metadata": {},
   "outputs": [
    {
     "name": "stdout",
     "output_type": "stream",
     "text": [
      "r2: RF: 0.552027 (0.026192)\n",
      "r2: BAG-DT: 0.518246 (0.027986)\n",
      "r2: DT: 0.229658 (0.091096)\n",
      "r2: SVR: 0.243712 (0.021276)\n",
      "r2: BAG-SVR: 0.247296 (0.020023)\n"
     ]
    }
   ],
   "source": [
    "# Train Bagging model with RFG, as Bagging on single models, and RFG outperform single models on its own, and GMB and voting.\n",
    "\n",
    "#Bagging RF vs DT\n",
    "baggingdt_rf = []\n",
    "baggingdt_rf.append(('RF', rf))\n",
    "baggingdt_rf.append(('BAG-DT', BaggingRegressor(dt, bootstrap_features=True)))\n",
    "baggingdt_rf.append(('DT', dt))\n",
    "baggingdt_rf.append(('SVR', svr))\n",
    "baggingdt_rf.append(('BAG-SVR', BaggingRegressor(svr)))\n",
    "results_baggingdt_rf = cross_validate_score(baggingdt_rf, 'r2')"
   ]
  },
  {
   "cell_type": "code",
   "execution_count": 77,
   "metadata": {},
   "outputs": [
    {
     "data": {
      "text/plain": [
       "{'RF': array([0.54012348, 0.5490645 , 0.52253578, 0.56694671, 0.59286722,\n",
       "        0.56121494, 0.57257906, 0.55006414, 0.49589163, 0.56898374]),\n",
       " 'BAG-DT': array([0.49059571, 0.54002574, 0.4961747 , 0.54326532, 0.5290563 ,\n",
       "        0.52815037, 0.54584897, 0.54431468, 0.45731403, 0.50770921]),\n",
       " 'DT': array([0.15400841, 0.08837076, 0.21407251, 0.14314996, 0.4149081 ,\n",
       "        0.25267962, 0.29973796, 0.28220438, 0.16463427, 0.28281362]),\n",
       " 'SVR': array([0.24820243, 0.21993664, 0.21392309, 0.27503247, 0.25541522,\n",
       "        0.24031769, 0.28127014, 0.23891189, 0.24251792, 0.22159007]),\n",
       " 'BAG-SVR': array([0.25460057, 0.22093888, 0.22039115, 0.27658012, 0.2591766 ,\n",
       "        0.24595939, 0.2805477 , 0.23937738, 0.24728218, 0.22810373])}"
      ]
     },
     "execution_count": 77,
     "metadata": {},
     "output_type": "execute_result"
    }
   ],
   "source": [
    "results_baggingdt_rf"
   ]
  },
  {
   "cell_type": "code",
   "execution_count": 78,
   "metadata": {},
   "outputs": [
    {
     "data": {
      "image/png": "[encoded data removed]",
      "text/plain": [
       "<Figure size 432x288 with 1 Axes>"
      ]
     },
     "metadata": {},
     "output_type": "display_data"
    }
   ],
   "source": [
    "generate_comparison(results_baggingdt_rf, 'r2')"
   ]
  },
  {
   "cell_type": "code",
   "execution_count": 80,
   "metadata": {},
   "outputs": [
    {
     "name": "stdout",
     "output_type": "stream",
     "text": [
      "r2: RF: 0.379055 (0.055318)\n",
      "rmse: RF: 0.780303 (0.073717)\n",
      "mse: RF: -0.617828 (0.068979)\n",
      "mae: RF: -0.398413 (0.029511)\n"
     ]
    }
   ],
   "source": [
    "# Train Model with Testing Set \n",
    "# RF Train on test Data\n",
    "x_test_scaled = independent_scaler.fit_transform(X_test)\n",
    "y_test_scaled = target_scaler.fit_transform(y_test.reshape(-1, 1))\n",
    "\n",
    "X_test_scaled_DF = pd.DataFrame(x_test_scaled, columns=x_train_DF.columns)\n",
    "Y_test_scaled_DF = pd.DataFrame(y_test_scaled, columns=y_train_DF.columns)\n",
    "\n",
    "model = []\n",
    "model.append(('RF', rf))\n",
    "results_randomforest_r2 = cross_validate_score_test(model, 'r2', X_test_scaled_DF, Y_test_scaled_DF)\n",
    "results_randomforest_rmse = cross_validate_score_test(model, 'rmse', X_test_scaled_DF, Y_test_scaled_DF)\n",
    "results_randomforest_mse = cross_validate_score_test(model, 'mse', X_test_scaled_DF, Y_test_scaled_DF)\n",
    "results_randomforest_mae = cross_validate_score_test(model, 'mae', X_test_scaled_DF, Y_test_scaled_DF)"
   ]
  },
  {
   "cell_type": "code",
   "execution_count": 81,
   "metadata": {},
   "outputs": [
    {
     "data": {
      "text/plain": [
       "RandomForestRegressor(n_estimators=20)"
      ]
     },
     "execution_count": 81,
     "metadata": {},
     "output_type": "execute_result"
    }
   ],
   "source": [
    "model = rf\n",
    "model.fit(x_train_scaled, y_train_scaled.ravel())"
   ]
  },
  {
   "cell_type": "code",
   "execution_count": null,
   "metadata": {},
   "outputs": [],
   "source": []
  },
  {
   "cell_type": "code",
   "execution_count": 82,
   "metadata": {},
   "outputs": [],
   "source": [
    "predY = model.predict(x_test_scaled)"
   ]
  },
  {
   "cell_type": "code",
   "execution_count": 83,
   "metadata": {},
   "outputs": [],
   "source": [
    "from IPython.display import FileLink, FileLinks\n",
    "import numpy as np\n",
    "#Unscale results, and export as CSV\n",
    "predY_DF = pd.DataFrame(predY)\n",
    "predY_unscaled = target_scaler.inverse_transform(predY_DF)\n",
    "predY_DF_unscaled = pd.DataFrame(predY_unscaled)\n",
    "predY_DF_unscaled\n",
    "csv = predY_DF_unscaled.to_csv('predictedY.csv', index=False)"
   ]
  },
  {
   "cell_type": "code",
   "execution_count": 84,
   "metadata": {},
   "outputs": [],
   "source": [
    "from sklearn.metrics import r2_score\n",
    "from sklearn.metrics import mean_squared_error\n",
    "from sklearn.metrics import mean_absolute_error\n",
    "\n",
    "r2 = r2_score(y_test_scaled, predY)\n",
    "mse = mean_squared_error(y_test_scaled, predY)\n",
    "mae = mean_absolute_error(y_test_scaled, predY)\n",
    "rmse = math.sqrt(mean_squared_error(y_test_scaled, predY))"
   ]
  },
  {
   "cell_type": "code",
   "execution_count": 85,
   "metadata": {},
   "outputs": [
    {
     "name": "stdout",
     "output_type": "stream",
     "text": [
      "R2: 0.5522775558899713\n",
      "MSE: 0.44772244411002876\n",
      "MAE: 0.32314647335032776\n",
      "RMSE: 0.6691206498906074\n"
     ]
    }
   ],
   "source": [
    "print(\"R2:\", r2)\n",
    "print(\"MSE:\", mse)\n",
    "print(\"MAE:\", mae)\n",
    "print(\"RMSE:\", rmse)"
   ]
  },
  {
   "cell_type": "code",
   "execution_count": null,
   "metadata": {},
   "outputs": [],
   "source": []
  }
 ],
 "metadata": {
  "kernelspec": {
   "display_name": "conda_python3",
   "language": "python",
   "name": "conda_python3"
  },
  "language_info": {
   "codemirror_mode": {
    "name": "ipython",
    "version": 3
   },
   "file_extension": ".py",
   "mimetype": "text/x-python",
   "name": "python",
   "nbconvert_exporter": "python",
   "pygments_lexer": "ipython3",
   "version": "3.6.5"
  }
 },
 "nbformat": 4,
 "nbformat_minor": 4
}
